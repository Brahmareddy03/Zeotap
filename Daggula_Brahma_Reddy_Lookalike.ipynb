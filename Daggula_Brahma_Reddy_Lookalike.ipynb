{
  "nbformat": 4,
  "nbformat_minor": 0,
  "metadata": {
    "colab": {
      "provenance": []
    },
    "kernelspec": {
      "name": "python3",
      "display_name": "Python 3"
    },
    "language_info": {
      "name": "python"
    }
  },
  "cells": [
    {
      "cell_type": "code",
      "execution_count": 2,
      "metadata": {
        "id": "KswkvgVr2bXB"
      },
      "outputs": [],
      "source": [
        "import pandas as pd\n",
        "import numpy as np\n",
        "from sklearn.metrics.pairwise import cosine_similarity\n",
        "from sklearn.preprocessing import StandardScaler\n",
        "import csv"
      ]
    },
    {
      "cell_type": "code",
      "source": [
        "\n",
        "customers = pd.read_csv(\"Customers.csv\")\n",
        "products = pd.read_csv(\"Products.csv\")\n",
        "transactions = pd.read_csv(\"Transactions.csv\")\n",
        "\n",
        "\n",
        "print(customers.head())\n",
        "print(products.head())\n",
        "print(transactions.head())\n"
      ],
      "metadata": {
        "colab": {
          "base_uri": "https://localhost:8080/"
        },
        "id": "z3yG52CO2qRR",
        "outputId": "9d472743-62a8-47a9-b61d-f214ca477734"
      },
      "execution_count": 4,
      "outputs": [
        {
          "output_type": "stream",
          "name": "stdout",
          "text": [
            "  CustomerID        CustomerName         Region  SignupDate\n",
            "0      C0001    Lawrence Carroll  South America  2022-07-10\n",
            "1      C0002      Elizabeth Lutz           Asia  2022-02-13\n",
            "2      C0003      Michael Rivera  South America  2024-03-07\n",
            "3      C0004  Kathleen Rodriguez  South America  2022-10-09\n",
            "4      C0005         Laura Weber           Asia  2022-08-15\n",
            "  ProductID              ProductName     Category   Price\n",
            "0      P001     ActiveWear Biography        Books  169.30\n",
            "1      P002    ActiveWear Smartwatch  Electronics  346.30\n",
            "2      P003  ComfortLiving Biography        Books   44.12\n",
            "3      P004            BookWorld Rug   Home Decor   95.69\n",
            "4      P005          TechPro T-Shirt     Clothing  429.31\n",
            "  TransactionID CustomerID ProductID      TransactionDate  Quantity  \\\n",
            "0        T00001      C0199      P067  2024-08-25 12:38:23         1   \n",
            "1        T00112      C0146      P067  2024-05-27 22:23:54         1   \n",
            "2        T00166      C0127      P067  2024-04-25 07:38:55         1   \n",
            "3        T00272      C0087      P067  2024-03-26 22:55:37         2   \n",
            "4        T00363      C0070      P067  2024-03-21 15:10:10         3   \n",
            "\n",
            "   TotalValue   Price  \n",
            "0      300.68  300.68  \n",
            "1      300.68  300.68  \n",
            "2      300.68  300.68  \n",
            "3      601.36  300.68  \n",
            "4      902.04  300.68  \n"
          ]
        }
      ]
    },
    {
      "cell_type": "code",
      "source": [
        "\n",
        "merged_data = pd.merge(transactions, customers, on=\"CustomerID\")\n",
        "merged_data = pd.merge(merged_data, products, on=\"ProductID\")\n",
        "\n",
        "customer_profiles = merged_data.groupby('CustomerID').agg({\n",
        "    'TotalValue': 'sum',\n",
        "    'Quantity': 'sum',\n",
        "    'Category': lambda x: list(x.unique())\n",
        "}).reset_index()\n",
        "\n",
        "\n",
        "scaler = StandardScaler()\n",
        "customer_profiles[['TotalValue', 'Quantity']] = scaler.fit_transform(customer_profiles[['TotalValue', 'Quantity']])\n",
        "\n",
        "\n",
        "print(customer_profiles.head())\n"
      ],
      "metadata": {
        "colab": {
          "base_uri": "https://localhost:8080/"
        },
        "id": "3sH2DJ1e2v_x",
        "outputId": "5fde9fa6-6e50-4033-d3bd-360cc5193b5a"
      },
      "execution_count": 5,
      "outputs": [
        {
          "output_type": "stream",
          "name": "stdout",
          "text": [
            "  CustomerID  TotalValue  Quantity                             Category\n",
            "0      C0001   -0.061701 -0.122033     [Books, Home Decor, Electronics]\n",
            "1      C0002   -0.877744 -0.448000               [Home Decor, Clothing]\n",
            "2      C0003   -0.405857  0.203934  [Home Decor, Clothing, Electronics]\n",
            "3      C0004    1.032547  1.670787     [Books, Home Decor, Electronics]\n",
            "4      C0005   -0.783929 -0.936951            [Home Decor, Electronics]\n"
          ]
        }
      ]
    },
    {
      "cell_type": "code",
      "source": [
        "similarity_matrix = cosine_similarity(customer_profiles[['TotalValue', 'Quantity']])\n",
        "\n",
        "similarity_df = pd.DataFrame(similarity_matrix, index=customer_profiles['CustomerID'], columns=customer_profiles['CustomerID'])\n",
        "\n",
        "print(similarity_df.head())\n"
      ],
      "metadata": {
        "colab": {
          "base_uri": "https://localhost:8080/"
        },
        "id": "V2IvLlzQ3DKh",
        "outputId": "a26a2a29-e91a-445c-cb50-743687295788"
      },
      "execution_count": 6,
      "outputs": [
        {
          "output_type": "stream",
          "name": "stdout",
          "text": [
            "CustomerID     C0001     C0002     C0003     C0004     C0005     C0006  \\\n",
            "CustomerID                                                               \n",
            "C0001       1.000000  0.807594  0.002500 -0.996354  0.973989 -0.181691   \n",
            "C0002       0.807594  1.000000  0.591756 -0.854965  0.920220 -0.726656   \n",
            "C0003       0.002500  0.591756  1.000000 -0.087809  0.229031 -0.983807   \n",
            "C0004      -0.996354 -0.854965 -0.087809  1.000000 -0.989770  0.264927   \n",
            "C0005       0.973989  0.920220  0.229031 -0.989770  1.000000 -0.399791   \n",
            "\n",
            "CustomerID     C0007     C0008     C0009     C0010  ...     C0191     C0192  \\\n",
            "CustomerID                                          ...                       \n",
            "C0001       0.995762 -0.993763  0.967313  0.560457  ...  0.965058  0.952317   \n",
            "C0002       0.858408 -0.736793  0.930746  0.941034  ...  0.933907  0.949021   \n",
            "C0003       0.094457  0.109029  0.256004  0.829582  ...  0.264447  0.307491   \n",
            "C0004      -0.999978  0.980625 -0.985421 -0.629073  ... -0.983896 -0.974876   \n",
            "C0005       0.990700 -0.942645  0.999613  0.733543  ...  0.999332  0.996683   \n",
            "\n",
            "CustomerID     C0193     C0194     C0195     C0196     C0197     C0198  \\\n",
            "CustomerID                                                               \n",
            "C0001       0.968164 -0.937732 -0.998944 -0.316447  0.889398  0.969030   \n",
            "C0002       0.929504 -0.962158 -0.779651 -0.814993  0.987862  0.928215   \n",
            "C0003       0.252735 -0.349702  0.043439 -0.949398  0.459355  0.249365   \n",
            "C0004      -0.985991  0.963949  0.991383  0.396227 -0.925157 -0.986565   \n",
            "C0005       0.999702 -0.992051 -0.962551 -0.523168  0.969849  0.999781   \n",
            "\n",
            "CustomerID     C0199     C0200  \n",
            "CustomerID                      \n",
            "C0001       0.896592 -0.896473  \n",
            "C0002       0.985253 -0.985299  \n",
            "C0003       0.445097 -0.445339  \n",
            "C0004      -0.931107  0.931008  \n",
            "C0005       0.973621 -0.973559  \n",
            "\n",
            "[5 rows x 199 columns]\n"
          ]
        }
      ]
    },
    {
      "cell_type": "code",
      "source": [
        "\n",
        "lookalike_recommendations = {}\n",
        "\n",
        "\n",
        "for customer in customer_profiles['CustomerID'][:20]:\n",
        "\n",
        "    similar_customers = similarity_df[customer].sort_values(ascending=False).iloc[1:4]\n",
        "\n",
        "\n",
        "    lookalike_recommendations[customer] = list(zip(similar_customers.index, similar_customers.values))\n",
        "\n",
        "\n",
        "for customer, recommendations in lookalike_recommendations.items():\n",
        "    print(f\"Customer {customer} Lookalikes:\")\n",
        "    for rec in recommendations:\n",
        "        print(f\"\\tSimilar Customer: {rec[0]}, Similarity Score: {rec[1]}\")\n"
      ],
      "metadata": {
        "colab": {
          "base_uri": "https://localhost:8080/"
        },
        "id": "P8B35Yd-3MQT",
        "outputId": "93e75d08-c70c-413f-8a5f-6911e26bfd89"
      },
      "execution_count": 7,
      "outputs": [
        {
          "output_type": "stream",
          "name": "stdout",
          "text": [
            "Customer C0001 Lookalikes:\n",
            "\tSimilar Customer: C0085, Similarity Score: 0.9999990504724361\n",
            "\tSimilar Customer: C0042, Similarity Score: 0.9998215747742084\n",
            "\tSimilar Customer: C0089, Similarity Score: 0.9997850140987701\n",
            "Customer C0002 Lookalikes:\n",
            "\tSimilar Customer: C0157, Similarity Score: 0.9999942410168485\n",
            "\tSimilar Customer: C0166, Similarity Score: 0.999875010843091\n",
            "\tSimilar Customer: C0029, Similarity Score: 0.9998254255985104\n",
            "Customer C0003 Lookalikes:\n",
            "\tSimilar Customer: C0111, Similarity Score: 0.9940081095432594\n",
            "\tSimilar Customer: C0160, Similarity Score: 0.9904545038572361\n",
            "\tSimilar Customer: C0147, Similarity Score: 0.9876382719212549\n",
            "Customer C0004 Lookalikes:\n",
            "\tSimilar Customer: C0162, Similarity Score: 0.9999999965087093\n",
            "\tSimilar Customer: C0165, Similarity Score: 0.9999594720114721\n",
            "\tSimilar Customer: C0090, Similarity Score: 0.9986409558134951\n",
            "Customer C0005 Lookalikes:\n",
            "\tSimilar Customer: C0080, Similarity Score: 0.9999822355480511\n",
            "\tSimilar Customer: C0167, Similarity Score: 0.9999750393711484\n",
            "\tSimilar Customer: C0177, Similarity Score: 0.9999281138035957\n",
            "Customer C0006 Lookalikes:\n",
            "\tSimilar Customer: C0079, Similarity Score: 0.9999656845154901\n",
            "\tSimilar Customer: C0117, Similarity Score: 0.9956703718685657\n",
            "\tSimilar Customer: C0196, Similarity Score: 0.9903168212584458\n",
            "Customer C0007 Lookalikes:\n",
            "\tSimilar Customer: C0146, Similarity Score: 0.9999895943808703\n",
            "\tSimilar Customer: C0125, Similarity Score: 0.9998372825489154\n",
            "\tSimilar Customer: C0061, Similarity Score: 0.9997162141129127\n",
            "Customer C0008 Lookalikes:\n",
            "\tSimilar Customer: C0109, Similarity Score: 0.9998419065580372\n",
            "\tSimilar Customer: C0136, Similarity Score: 0.9995449075266115\n",
            "\tSimilar Customer: C0124, Similarity Score: 0.9988501083510457\n",
            "Customer C0009 Lookalikes:\n",
            "\tSimilar Customer: C0015, Similarity Score: 0.9999998280836607\n",
            "\tSimilar Customer: C0131, Similarity Score: 0.9999969915843525\n",
            "\tSimilar Customer: C0193, Similarity Score: 0.9999942852290301\n",
            "Customer C0010 Lookalikes:\n",
            "\tSimilar Customer: C0176, Similarity Score: 0.9977495907269391\n",
            "\tSimilar Customer: C0027, Similarity Score: 0.9933907927482107\n",
            "\tSimilar Customer: C0030, Similarity Score: 0.9784025791083272\n",
            "Customer C0011 Lookalikes:\n",
            "\tSimilar Customer: C0139, Similarity Score: 0.9995752579210655\n",
            "\tSimilar Customer: C0100, Similarity Score: 0.9992186065437542\n",
            "\tSimilar Customer: C0023, Similarity Score: 0.9981601131570049\n",
            "Customer C0012 Lookalikes:\n",
            "\tSimilar Customer: C0101, Similarity Score: 0.999958735499151\n",
            "\tSimilar Customer: C0156, Similarity Score: 0.9998710212245943\n",
            "\tSimilar Customer: C0093, Similarity Score: 0.9998427725809736\n",
            "Customer C0013 Lookalikes:\n",
            "\tSimilar Customer: C0067, Similarity Score: 0.9998962934726959\n",
            "\tSimilar Customer: C0138, Similarity Score: 0.9998109989494287\n",
            "\tSimilar Customer: C0141, Similarity Score: 0.9997829345234197\n",
            "Customer C0014 Lookalikes:\n",
            "\tSimilar Customer: C0192, Similarity Score: 0.999999195523505\n",
            "\tSimilar Customer: C0159, Similarity Score: 0.9999990484005253\n",
            "\tSimilar Customer: C0186, Similarity Score: 0.999979545291725\n",
            "Customer C0015 Lookalikes:\n",
            "\tSimilar Customer: C0009, Similarity Score: 0.9999998280836607\n",
            "\tSimilar Customer: C0131, Similarity Score: 0.9999982579939216\n",
            "\tSimilar Customer: C0120, Similarity Score: 0.9999928702070295\n",
            "Customer C0016 Lookalikes:\n",
            "\tSimilar Customer: C0154, Similarity Score: 0.9993683855686599\n",
            "\tSimilar Customer: C0040, Similarity Score: 0.9960728766406054\n",
            "\tSimilar Customer: C0026, Similarity Score: 0.993943060754397\n",
            "Customer C0017 Lookalikes:\n",
            "\tSimilar Customer: C0075, Similarity Score: 0.9999997918900845\n",
            "\tSimilar Customer: C0179, Similarity Score: 0.999792419915155\n",
            "\tSimilar Customer: C0039, Similarity Score: 0.9997215280460565\n",
            "Customer C0018 Lookalikes:\n",
            "\tSimilar Customer: C0045, Similarity Score: 0.9999974739628396\n",
            "\tSimilar Customer: C0041, Similarity Score: 0.9997600993045762\n",
            "\tSimilar Customer: C0068, Similarity Score: 0.999404067327854\n",
            "Customer C0019 Lookalikes:\n",
            "\tSimilar Customer: C0142, Similarity Score: 0.9998871390943337\n",
            "\tSimilar Customer: C0174, Similarity Score: 0.9998674238866583\n",
            "\tSimilar Customer: C0055, Similarity Score: 0.9993745857345483\n",
            "Customer C0020 Lookalikes:\n",
            "\tSimilar Customer: C0058, Similarity Score: 0.9999997942980384\n",
            "\tSimilar Customer: C0193, Similarity Score: 0.999998649644113\n",
            "\tSimilar Customer: C0198, Similarity Score: 0.9999983115151304\n"
          ]
        }
      ]
    },
    {
      "cell_type": "code",
      "source": [
        "# Save the lookalike recommendations to a CSV file\n",
        "with open(\"Lookalike.csv\", \"w\", newline=\"\") as file:\n",
        "    writer = csv.writer(file)\n",
        "    writer.writerow([\"CustomerID\", \"Recommendations\"])\n",
        "    for cust_id, recommendations in lookalike_recommendations.items():\n",
        "        # Convert recommendations into a string format for CSV saving\n",
        "        recommendations_str = ', '.join([f\"{rec[0]}: {rec[1]:.2f}\" for rec in recommendations])\n",
        "        writer.writerow([cust_id, recommendations_str])\n",
        "\n",
        "# Check the saved file\n",
        "print(\"Lookalike.csv saved successfully.\")\n"
      ],
      "metadata": {
        "colab": {
          "base_uri": "https://localhost:8080/"
        },
        "id": "aD94SgBA3Zzu",
        "outputId": "6ddc0e60-0a01-4b34-bf17-12e8a00bc0f9"
      },
      "execution_count": 8,
      "outputs": [
        {
          "output_type": "stream",
          "name": "stdout",
          "text": [
            "Lookalike.csv saved successfully.\n"
          ]
        }
      ]
    }
  ]
}