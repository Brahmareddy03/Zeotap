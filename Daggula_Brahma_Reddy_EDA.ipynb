{
  "nbformat": 4,
  "nbformat_minor": 0,
  "metadata": {
    "colab": {
      "provenance": []
    },
    "kernelspec": {
      "name": "python3",
      "display_name": "Python 3"
    },
    "language_info": {
      "name": "python"
    }
  },
  "cells": [
    {
      "cell_type": "code",
      "execution_count": null,
      "metadata": {
        "colab": {
          "base_uri": "https://localhost:8080/"
        },
        "id": "Bj4CDv1fpcQN",
        "outputId": "891c1fbf-0338-4d65-ed9c-f0ac5125db0d"
      },
      "outputs": [
        {
          "output_type": "stream",
          "name": "stdout",
          "text": [
            "Requirement already satisfied: pandas in /usr/local/lib/python3.11/dist-packages (2.2.2)\n",
            "Requirement already satisfied: numpy in /usr/local/lib/python3.11/dist-packages (1.26.4)\n",
            "Requirement already satisfied: matplotlib in /usr/local/lib/python3.11/dist-packages (3.10.0)\n",
            "Requirement already satisfied: seaborn in /usr/local/lib/python3.11/dist-packages (0.13.2)\n",
            "Requirement already satisfied: scikit-learn in /usr/local/lib/python3.11/dist-packages (1.6.0)\n",
            "Requirement already satisfied: python-dateutil>=2.8.2 in /usr/local/lib/python3.11/dist-packages (from pandas) (2.8.2)\n",
            "Requirement already satisfied: pytz>=2020.1 in /usr/local/lib/python3.11/dist-packages (from pandas) (2024.2)\n",
            "Requirement already satisfied: tzdata>=2022.7 in /usr/local/lib/python3.11/dist-packages (from pandas) (2024.2)\n",
            "Requirement already satisfied: contourpy>=1.0.1 in /usr/local/lib/python3.11/dist-packages (from matplotlib) (1.3.1)\n",
            "Requirement already satisfied: cycler>=0.10 in /usr/local/lib/python3.11/dist-packages (from matplotlib) (0.12.1)\n",
            "Requirement already satisfied: fonttools>=4.22.0 in /usr/local/lib/python3.11/dist-packages (from matplotlib) (4.55.3)\n",
            "Requirement already satisfied: kiwisolver>=1.3.1 in /usr/local/lib/python3.11/dist-packages (from matplotlib) (1.4.8)\n",
            "Requirement already satisfied: packaging>=20.0 in /usr/local/lib/python3.11/dist-packages (from matplotlib) (24.2)\n",
            "Requirement already satisfied: pillow>=8 in /usr/local/lib/python3.11/dist-packages (from matplotlib) (11.1.0)\n",
            "Requirement already satisfied: pyparsing>=2.3.1 in /usr/local/lib/python3.11/dist-packages (from matplotlib) (3.2.1)\n",
            "Requirement already satisfied: scipy>=1.6.0 in /usr/local/lib/python3.11/dist-packages (from scikit-learn) (1.13.1)\n",
            "Requirement already satisfied: joblib>=1.2.0 in /usr/local/lib/python3.11/dist-packages (from scikit-learn) (1.4.2)\n",
            "Requirement already satisfied: threadpoolctl>=3.1.0 in /usr/local/lib/python3.11/dist-packages (from scikit-learn) (3.5.0)\n",
            "Requirement already satisfied: six>=1.5 in /usr/local/lib/python3.11/dist-packages (from python-dateutil>=2.8.2->pandas) (1.17.0)\n"
          ]
        }
      ],
      "source": [
        "!pip install pandas numpy matplotlib seaborn scikit-learn"
      ]
    },
    {
      "cell_type": "markdown",
      "source": [
        "Task 1: Exploratory Data Analysis (EDA)\n"
      ],
      "metadata": {
        "id": "aBDC-Dw2uDcE"
      }
    },
    {
      "cell_type": "code",
      "source": [
        "# Import necessary libraries\n",
        "import pandas as pd\n",
        "\n",
        "# Load the datasets (since you've already uploaded them)\n",
        "customers = pd.read_csv(\"Customers.csv\")\n",
        "products = pd.read_csv(\"Products.csv\")\n",
        "transactions = pd.read_csv(\"Transactions.csv\")\n",
        "\n",
        "# Preview the datasets to ensure they loaded correctly\n",
        "print(\"Customers Dataset:\")\n",
        "print(customers.head())\n",
        "print(\"\\nProducts Dataset:\")\n",
        "print(products.head())\n",
        "print(\"\\nTransactions Dataset:\")\n",
        "print(transactions.head())\n"
      ],
      "metadata": {
        "colab": {
          "base_uri": "https://localhost:8080/"
        },
        "id": "wPVCL9NtqJLd",
        "outputId": "841e0700-7a78-4bc3-cd85-a80eb2691403"
      },
      "execution_count": null,
      "outputs": [
        {
          "output_type": "stream",
          "name": "stdout",
          "text": [
            "Customers Dataset:\n",
            "  CustomerID        CustomerName         Region  SignupDate\n",
            "0      C0001    Lawrence Carroll  South America  2022-07-10\n",
            "1      C0002      Elizabeth Lutz           Asia  2022-02-13\n",
            "2      C0003      Michael Rivera  South America  2024-03-07\n",
            "3      C0004  Kathleen Rodriguez  South America  2022-10-09\n",
            "4      C0005         Laura Weber           Asia  2022-08-15\n",
            "\n",
            "Products Dataset:\n",
            "  ProductID              ProductName     Category   Price\n",
            "0      P001     ActiveWear Biography        Books  169.30\n",
            "1      P002    ActiveWear Smartwatch  Electronics  346.30\n",
            "2      P003  ComfortLiving Biography        Books   44.12\n",
            "3      P004            BookWorld Rug   Home Decor   95.69\n",
            "4      P005          TechPro T-Shirt     Clothing  429.31\n",
            "\n",
            "Transactions Dataset:\n",
            "  TransactionID CustomerID ProductID      TransactionDate  Quantity  \\\n",
            "0        T00001      C0199      P067  2024-08-25 12:38:23         1   \n",
            "1        T00112      C0146      P067  2024-05-27 22:23:54         1   \n",
            "2        T00166      C0127      P067  2024-04-25 07:38:55         1   \n",
            "3        T00272      C0087      P067  2024-03-26 22:55:37         2   \n",
            "4        T00363      C0070      P067  2024-03-21 15:10:10         3   \n",
            "\n",
            "   TotalValue   Price  \n",
            "0      300.68  300.68  \n",
            "1      300.68  300.68  \n",
            "2      300.68  300.68  \n",
            "3      601.36  300.68  \n",
            "4      902.04  300.68  \n"
          ]
        }
      ]
    },
    {
      "cell_type": "code",
      "source": [],
      "metadata": {
        "id": "HW4uCeN92XgE"
      },
      "execution_count": null,
      "outputs": []
    },
    {
      "cell_type": "code",
      "source": [],
      "metadata": {
        "id": "lY4ZZvkA2Yyf"
      },
      "execution_count": null,
      "outputs": []
    },
    {
      "cell_type": "code",
      "source": [
        "print(\"Missing Values:\\n\")\n",
        "print(customers.isnull().sum())\n",
        "print(products.isnull().sum())\n",
        "print(transactions.isnull().sum())"
      ],
      "metadata": {
        "colab": {
          "base_uri": "https://localhost:8080/"
        },
        "id": "6IJweJ02sAZZ",
        "outputId": "d2d1ac24-bb5b-4102-cade-41cdcacdc24b"
      },
      "execution_count": null,
      "outputs": [
        {
          "output_type": "stream",
          "name": "stdout",
          "text": [
            "Missing Values:\n",
            "\n",
            "CustomerID      0\n",
            "CustomerName    0\n",
            "Region          0\n",
            "SignupDate      0\n",
            "dtype: int64\n",
            "ProductID      0\n",
            "ProductName    0\n",
            "Category       0\n",
            "Price          0\n",
            "dtype: int64\n",
            "TransactionID      0\n",
            "CustomerID         0\n",
            "ProductID          0\n",
            "TransactionDate    0\n",
            "Quantity           0\n",
            "TotalValue         0\n",
            "Price              0\n",
            "dtype: int64\n"
          ]
        }
      ]
    },
    {
      "cell_type": "code",
      "source": [
        "merged_data = pd.merge(transactions, customers, on=\"CustomerID\")\n",
        "merged_data = pd.merge(merged_data, products, on=\"ProductID\")"
      ],
      "metadata": {
        "id": "9CN9-IZ8sp1C"
      },
      "execution_count": null,
      "outputs": []
    },
    {
      "cell_type": "code",
      "source": [
        "top_customers = merged_data.groupby('CustomerID')['TotalValue'].sum().sort_values(ascending=False).head(5)\n",
        "print(\"\\nTop 5 Customers by Total Transaction Value:\")\n",
        "print(top_customers)"
      ],
      "metadata": {
        "colab": {
          "base_uri": "https://localhost:8080/"
        },
        "id": "zS-kpkw3stTv",
        "outputId": "97f5f844-3afc-4711-f9ef-5a4ab5192f08"
      },
      "execution_count": null,
      "outputs": [
        {
          "output_type": "stream",
          "name": "stdout",
          "text": [
            "\n",
            "Top 5 Customers by Total Transaction Value:\n",
            "CustomerID\n",
            "C0141    10673.87\n",
            "C0054     8040.39\n",
            "C0065     7663.70\n",
            "C0156     7634.45\n",
            "C0082     7572.91\n",
            "Name: TotalValue, dtype: float64\n"
          ]
        }
      ]
    },
    {
      "cell_type": "code",
      "source": [
        "popular_categories = merged_data.groupby('Category')['TotalValue'].sum().sort_values(ascending=False)\n",
        "print(\"\\nPopular Product Categories:\")\n",
        "print(popular_categories)"
      ],
      "metadata": {
        "colab": {
          "base_uri": "https://localhost:8080/"
        },
        "id": "-fstDB_BsyHn",
        "outputId": "43934b2c-a513-4443-e4d8-d0528d8f9741"
      },
      "execution_count": null,
      "outputs": [
        {
          "output_type": "stream",
          "name": "stdout",
          "text": [
            "\n",
            "Popular Product Categories:\n",
            "Category\n",
            "Books          192147.47\n",
            "Electronics    180783.50\n",
            "Clothing       166170.66\n",
            "Home Decor     150893.93\n",
            "Name: TotalValue, dtype: float64\n"
          ]
        }
      ]
    },
    {
      "cell_type": "code",
      "source": [
        "sns.barplot(x=popular_categories.index, y=popular_categories.values)\n",
        "plt.title(\"Top Product Categories by Total Sales\")\n",
        "plt.xlabel(\"Category\")\n",
        "plt.ylabel(\"Total Sales (USD)\")\n",
        "plt.xticks(rotation=45)\n",
        "plt.show()"
      ],
      "metadata": {
        "colab": {
          "base_uri": "https://localhost:8080/",
          "height": 529
        },
        "id": "fr3n3tMDszg0",
        "outputId": "d9ad86d8-c9b1-4301-9ae9-8e28b9d28d5f"
      },
      "execution_count": null,
      "outputs": [
        {
          "output_type": "display_data",
          "data": {
            "text/plain": [
              "<Figure size 640x480 with 1 Axes>"
            ],
            "image/png": "[encoded data removed]"
          },
          "metadata": {}
        }
      ]
    }
  ]
}